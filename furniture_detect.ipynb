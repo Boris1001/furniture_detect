{
  "nbformat": 4,
  "nbformat_minor": 0,
  "metadata": {
    "colab": {
      "provenance": [],
      "authorship_tag": "ABX9TyPzPVnSntidfJq2ETj+NX2M",
      "include_colab_link": true
    },
    "kernelspec": {
      "name": "python3",
      "display_name": "Python 3"
    },
    "language_info": {
      "name": "python"
    }
  },
  "cells": [
    {
      "cell_type": "markdown",
      "metadata": {
        "id": "view-in-github",
        "colab_type": "text"
      },
      "source": [
        "<a href=\"https://colab.research.google.com/github/Boris1001/furniture_detect/blob/main/furniture_detect.ipynb\" target=\"_parent\"><img src=\"https://colab.research.google.com/assets/colab-badge.svg\" alt=\"Open In Colab\"/></a>"
      ]
    },
    {
      "cell_type": "markdown",
      "source": [
        "#Библиотеки"
      ],
      "metadata": {
        "id": "LJud861FJctU"
      }
    },
    {
      "cell_type": "code",
      "source": [
        "from google.colab import drive\n",
        "from google.colab import files\n",
        "from googleapiclient.discovery import build\n",
        "from googleapiclient.http import MediaFileUpload\n",
        "import cv2\n",
        "import os\n"
      ],
      "metadata": {
        "id": "U78f-eE6Jbcf"
      },
      "execution_count": 1,
      "outputs": []
    },
    {
      "cell_type": "code",
      "execution_count": 2,
      "metadata": {
        "id": "ko0MVrXyj-GW",
        "colab": {
          "base_uri": "https://localhost:8080/"
        },
        "outputId": "f6c80eb2-cce8-42aa-c4d7-485360d039ab"
      },
      "outputs": [
        {
          "output_type": "stream",
          "name": "stdout",
          "text": [
            "Mounted at /content/drive\n"
          ]
        }
      ],
      "source": [
        "from google.colab import drive\n",
        "drive.mount('/content/drive')"
      ]
    },
    {
      "cell_type": "markdown",
      "source": [
        "#Обработка видео"
      ],
      "metadata": {
        "id": "0pDKwv5uJjAo"
      }
    },
    {
      "cell_type": "code",
      "source": [
        "#Путь к видео\n",
        "video_path = \"/content/drive/MyDrive/Мебель/видео для обучения/Architectural_visualization_Unreal_Engine_5.1___08072023104150_MPEG-4 (360p) (1).mp4\""
      ],
      "metadata": {
        "id": "yrupulIGIGdk"
      },
      "execution_count": 15,
      "outputs": []
    },
    {
      "cell_type": "code",
      "source": [
        "video_path = \"/content/drive/MyDrive/Мебель/видео для обучения/BORISPOL___Unreal_Engine_Ray_tracing_interior_animation_08072023103208_MPEG-4 (360p) (1).mp4\""
      ],
      "metadata": {
        "id": "tnWkzQsXaVr5"
      },
      "execution_count": 31,
      "outputs": []
    },
    {
      "cell_type": "code",
      "source": [
        "video_path = \"/content/drive/MyDrive/Мебель/видео для обучения/HOT_WALLS_-_Animation_08072023102949_MPEG-4 (360p).mp4\""
      ],
      "metadata": {
        "id": "WHZvOYUWbP_i"
      },
      "execution_count": 45,
      "outputs": []
    },
    {
      "cell_type": "code",
      "source": [
        "# Загружаем видео\n",
        "cap = cv2.VideoCapture(video_path)\n",
        "\n",
        "# Проверка успешного открытия видеофайла\n",
        "if not cap.isOpened():\n",
        "    print(\"Ошибка при открытии видеофайла\")\n",
        "    exit()\n"
      ],
      "metadata": {
        "id": "Gcq14gwEUnvN"
      },
      "execution_count": 46,
      "outputs": []
    },
    {
      "cell_type": "code",
      "source": [
        "# Папка для сохранения кадров\n",
        "frames_folder = '/content/drive/MyDrive/Мебель/frame_for_dataset'\n",
        "# Создание папки для хранения кадров, если она еще не существует\n",
        "!mkdir -p $frames_folder"
      ],
      "metadata": {
        "id": "XLND_XMYWhJa"
      },
      "execution_count": 40,
      "outputs": []
    },
    {
      "cell_type": "code",
      "source": [
        "videos_folder = \"/content/drive/MyDrive/Мебель/видео для обучения\""
      ],
      "metadata": {
        "id": "tkRP4EMyigOZ"
      },
      "execution_count": 3,
      "outputs": []
    },
    {
      "cell_type": "code",
      "source": [
        "# Получение списка видео в папке\n",
        "video_files = os.listdir(videos_folder)\n"
      ],
      "metadata": {
        "id": "3S2e_AFeinh9"
      },
      "execution_count": 4,
      "outputs": []
    },
    {
      "cell_type": "code",
      "source": [
        "# Перебор видео файлов\n",
        "for video_file in video_files:\n",
        "    # Путь к текущему видео\n",
        "    video_path = os.path.join(videos_folder, video_file)\n",
        "\n",
        "    # Открытие видео файла с помощью cv2\n",
        "    video = cv2.VideoCapture(video_path)\n",
        "\n",
        "    # Переменная для подсчета текущего кадра\n",
        "    frame_count = 0\n",
        "\n",
        "    # Перебор каждого кадра в видео\n",
        "    while video.isOpened():\n",
        "        # Чтение кадра\n",
        "        ret, frame = video.read()\n",
        "\n",
        "        # Проверка, достигнут ли конец видео\n",
        "        if not ret:\n",
        "            break\n",
        "\n",
        "        # Условие для сохранения каждого пятого кадра\n",
        "        if frame_count % 5 == 0:\n",
        "            # Путь для сохранения кадра на Google Drive\n",
        "            save_path = f\"/content/drive/MyDrive/Мебель/SavedFrames/{video_file[:-4]}_frame{frame_count}.jpg\"\n",
        "\n",
        "            # Сохранение кадра на Google Drive\n",
        "            cv2.imwrite(save_path, frame)\n",
        "\n",
        "        # Увеличение счетчика кадров\n",
        "        frame_count += 1\n",
        "\n",
        "    # Закрытие видео файла\n",
        "    video.release()\n",
        "\n",
        "print(\"Загрузка и сохранение кадров завершено.\")\n"
      ],
      "metadata": {
        "colab": {
          "base_uri": "https://localhost:8080/"
        },
        "id": "VGRMWecxitAB",
        "outputId": "a66f7920-de47-4ebd-c6f3-55d899789baf"
      },
      "execution_count": 8,
      "outputs": [
        {
          "output_type": "stream",
          "name": "stdout",
          "text": [
            "Загрузка и сохранение кадров завершено.\n"
          ]
        }
      ]
    },
    {
      "cell_type": "code",
      "source": [
        "frames_folder = \"/content/drive/MyDrive/Мебель/SavedFrames\""
      ],
      "metadata": {
        "id": "WexzitZikJMr"
      },
      "execution_count": 6,
      "outputs": []
    },
    {
      "cell_type": "code",
      "source": [
        "# смотрим сколько получилось изображений\n",
        "files = os.listdir(frames_folder)\n",
        "num_files = len(files)\n",
        "print(f\"Количество файлов для датасета: {num_files}\")"
      ],
      "metadata": {
        "colab": {
          "base_uri": "https://localhost:8080/",
          "height": 232
        },
        "id": "cahhK8nSj9Vj",
        "outputId": "03a44dce-51e8-4714-b3de-2331a0922def"
      },
      "execution_count": 7,
      "outputs": [
        {
          "output_type": "error",
          "ename": "FileNotFoundError",
          "evalue": "ignored",
          "traceback": [
            "\u001b[0;31m---------------------------------------------------------------------------\u001b[0m",
            "\u001b[0;31mFileNotFoundError\u001b[0m                         Traceback (most recent call last)",
            "\u001b[0;32m<ipython-input-7-557bb42cc009>\u001b[0m in \u001b[0;36m<cell line: 2>\u001b[0;34m()\u001b[0m\n\u001b[1;32m      1\u001b[0m \u001b[0;31m# смотрим сколько получилось изображений\u001b[0m\u001b[0;34m\u001b[0m\u001b[0;34m\u001b[0m\u001b[0m\n\u001b[0;32m----> 2\u001b[0;31m \u001b[0mfiles\u001b[0m \u001b[0;34m=\u001b[0m \u001b[0mos\u001b[0m\u001b[0;34m.\u001b[0m\u001b[0mlistdir\u001b[0m\u001b[0;34m(\u001b[0m\u001b[0mframes_folder\u001b[0m\u001b[0;34m)\u001b[0m\u001b[0;34m\u001b[0m\u001b[0;34m\u001b[0m\u001b[0m\n\u001b[0m\u001b[1;32m      3\u001b[0m \u001b[0mnum_files\u001b[0m \u001b[0;34m=\u001b[0m \u001b[0mlen\u001b[0m\u001b[0;34m(\u001b[0m\u001b[0mfiles\u001b[0m\u001b[0;34m)\u001b[0m\u001b[0;34m\u001b[0m\u001b[0;34m\u001b[0m\u001b[0m\n\u001b[1;32m      4\u001b[0m \u001b[0mprint\u001b[0m\u001b[0;34m(\u001b[0m\u001b[0;34mf\"Количество файлов для датасета: {num_files}\"\u001b[0m\u001b[0;34m)\u001b[0m\u001b[0;34m\u001b[0m\u001b[0;34m\u001b[0m\u001b[0m\n",
            "\u001b[0;31mFileNotFoundError\u001b[0m: [Errno 2] No such file or directory: '/content/drive/MyDrive/Мебель/SavedFrames'"
          ]
        }
      ]
    }
  ]
}